{
 "cells": [
  {
   "cell_type": "code",
   "execution_count": null,
   "metadata": {},
   "outputs": [],
   "source": [
    "## Lorenz 63\n",
    "\n",
    "import numpy as np\n",
    "from scipy.integrate import solve_ivp\n",
    "import matplotlib.pyplot as plt "
   ]
  },
  {
   "cell_type": "code",
   "execution_count": null,
   "metadata": {},
   "outputs": [],
   "source": [
    "# Derivative function\n",
    "\n",
    "def dydt_func(t,y,params):\n",
    "    sigma = params[0]\n",
    "    beta = params[1]\n",
    "    rho = params[2]\n",
    "    dydt = np.zeros_like(y)\n",
    "\n",
    "    dydt[0] = sigma * (y[1] - y[0] )\n",
    "    dydt[1] = y[0] * (rho - y[2]) - y[1] \n",
    "    dydt[2] = y[0] * y[1] - beta * y[2]\n",
    "\n",
    "    return dydt \n",
    "\n"
   ]
  },
  {
   "cell_type": "code",
   "execution_count": null,
   "metadata": {},
   "outputs": [],
   "source": [
    "params_ex = np.array([10,8/3,28])\n",
    "dy = lambda t,y: dydt_func(t,y,params_ex)\n",
    "\n",
    "y0 = np.array([1,2,2])\n",
    "T = 10000\n",
    "teval = np.sort((T-100) * np.random.rand(1,1000000)+100)\n",
    "sol = solve_ivp(dy,[0,10000], y0,method = 'DOP853',t_eval = teval[0])\n",
    "\n",
    "\n",
    "\n"
   ]
  },
  {
   "cell_type": "code",
   "execution_count": null,
   "metadata": {},
   "outputs": [],
   "source": [
    "dataset = sol.y\n",
    "\n",
    "fig = plt.figure()\n",
    "ax = fig.add_subplot(projection='3d')\n",
    "ax.scatter(dataset[0,0:-1:5],dataset[1,0:-1:5],dataset[2,0:-1:5],s=0.1)\n",
    "plt.show()"
   ]
  },
  {
   "cell_type": "code",
   "execution_count": null,
   "metadata": {},
   "outputs": [],
   "source": [
    "np.save('lorenzdataset.npy',dataset)"
   ]
  }
 ],
 "metadata": {
  "kernelspec": {
   "display_name": "particlesystems",
   "language": "python",
   "name": "python3"
  },
  "language_info": {
   "codemirror_mode": {
    "name": "ipython",
    "version": 3
   },
   "file_extension": ".py",
   "mimetype": "text/x-python",
   "name": "python",
   "nbconvert_exporter": "python",
   "pygments_lexer": "ipython3",
   "version": "3.9.13"
  },
  "orig_nbformat": 4,
  "vscode": {
   "interpreter": {
    "hash": "dcff6d82c76e93f8bf1a2a5a5959262afe2e0fbcc55797eb73e33c922868f9ed"
   }
  }
 },
 "nbformat": 4,
 "nbformat_minor": 2
}
